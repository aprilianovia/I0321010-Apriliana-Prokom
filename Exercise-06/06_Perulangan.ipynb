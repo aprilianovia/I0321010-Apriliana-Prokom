{
 "cells": [
  {
   "cell_type": "markdown",
   "metadata": {},
   "source": [
    "***\n",
    "<h1 align=\"center\">Exercise 06</h1>\n",
    " \n",
    "***\n",
    "## While Loop\n",
    "## Exercise 6.1\n",
    "isilah bagian rumpang berikut. xx diganti tanggal lahir dan yy diganti menjadi bulan lahir. tandanya menyesuaikan yang lebih besar."
   ]
  },
  {
   "cell_type": "code",
   "execution_count": 1,
   "metadata": {},
   "outputs": [
    {
     "name": "stdout",
     "output_type": "stream",
     "text": [
      "Sukses dulu banggakan orangtua, baru mikir yang lain\n",
      "Sukses dulu banggakan orangtua, baru mikir yang lain\n",
      "Sukses dulu banggakan orangtua, baru mikir yang lain\n",
      "Sukses dulu banggakan orangtua, baru mikir yang lain\n",
      "Sukses dulu banggakan orangtua, baru mikir yang lain\n",
      "Sukses dulu banggakan orangtua, baru mikir yang lain\n",
      "Sukses dulu banggakan orangtua, baru mikir yang lain\n",
      "Sukses dulu banggakan orangtua, baru mikir yang lain\n",
      "Sukses dulu banggakan orangtua, baru mikir yang lain\n",
      "Sukses dulu banggakan orangtua, baru mikir yang lain\n",
      "Sukses dulu banggakan orangtua, baru mikir yang lain\n",
      "Sukses dulu banggakan orangtua, baru mikir yang lain\n",
      "Sukses dulu banggakan orangtua, baru mikir yang lain\n"
     ]
    }
   ],
   "source": [
    "#menentukan banyak pengulangan\n",
    "n = 16\n",
    "\n",
    "#melakukan pengulangan\n",
    "i = 4\n",
    "\n",
    "while i <= n :\n",
    "    print (\"Sukses dulu banggakan orangtua, baru mikir yang lain\")\n",
    "    #diisi motto kalian\n",
    "    i = i + 1 # sesuaikan dengan atas agar fungsi perulangan dapat berhenti\n"
   ]
  },
  {
   "cell_type": "markdown",
   "metadata": {},
   "source": [
    "## Exercise 6.2\n",
    "\n",
    "Buatlah code seperti yang dicontohkan pada modul agar user dapat menginputkan sendiri jumlah n yang diinginkan"
   ]
  },
  {
   "cell_type": "code",
   "execution_count": 2,
   "metadata": {},
   "outputs": [
    {
     "name": "stdout",
     "output_type": "stream",
     "text": [
      "4\n",
      "5\n",
      "6\n",
      "7\n",
      "8\n",
      "9\n",
      "10\n",
      "11\n",
      "12\n",
      "13\n",
      "14\n",
      "15\n",
      "16\n"
     ]
    }
   ],
   "source": [
    "#Kerjakan disini\n",
    "n = int(input(\"input nilai n:\"))\n",
    "i = 4\n",
    "while i <= n:\n",
    "    print(i)\n",
    "    i = i + 1"
   ]
  },
  {
   "cell_type": "markdown",
   "metadata": {},
   "source": [
    "## Excercise 6.3\n",
    "\n",
    "isilah xx, yy, dan tanda rumpang seperti pada exercise 6.1\n"
   ]
  },
  {
   "cell_type": "code",
   "execution_count": 5,
   "metadata": {},
   "outputs": [
    {
     "name": "stdout",
     "output_type": "stream",
     "text": [
      "Baris ke-4 : Surga Yang Dirindukan \n"
     ]
    }
   ],
   "source": [
    "#melakukan pengulangan\n",
    "i = 4\n",
    "\n",
    "while i <= 4 :\n",
    "    print (\"Baris ke-%d : Surga Yang Dirindukan \"%i)\n",
    "    #isi titik-titik dengan judul film favorit kalian\n",
    "    i = i + 1 "
   ]
  },
  {
   "cell_type": "markdown",
   "metadata": {},
   "source": [
    "## FOR LOOP\n",
    "\n",
    "## Exercise 6.4\n",
    "\n",
    "munculkan 3 dari 7 elemen yang berada di dalam list1 dan list2\n"
   ]
  },
  {
   "cell_type": "code",
   "execution_count": 6,
   "metadata": {},
   "outputs": [
    {
     "name": "stdout",
     "output_type": "stream",
     "text": [
      "2 Mie ayam Bandung\n",
      "3 Ayam bakar Bogor\n",
      "4 Ayam geprek Yogyakarta\n",
      "5 Fried Chicken Dubai\n"
     ]
    }
   ],
   "source": [
    "list1 = [\"Nasi goreng\", \"Mie ayam\", \"Ayam bakar\", \"Ayam geprek\", \"Fried Chicken\", \"Bakso\", \"Ayam Kremes\"] \n",
    "list2 = [\"Tuban\", \"Bandung\", \"Bogor\", \"Yogyakarta\", \"Dubai\", \"Makkah\", \"Madinah\"] \n",
    "\n",
    "for i in range(1,5) :\n",
    "    print(i+1, list1[i] , list2[i])"
   ]
  },
  {
   "cell_type": "markdown",
   "metadata": {},
   "source": [
    "## Perulangan Bersarang\n",
    "\n",
    "## Exercise 6.5"
   ]
  },
  {
   "cell_type": "code",
   "execution_count": 8,
   "metadata": {},
   "outputs": [
    {
     "name": "stdout",
     "output_type": "stream",
     "text": [
      "256 \n",
      "\n",
      "\n",
      "\n",
      "\n",
      "\n",
      "\n",
      "\n",
      "\n",
      "\n",
      "\n",
      "\n",
      "\n"
     ]
    }
   ],
   "source": [
    "i = 16\n",
    "while i >= 4:\n",
    "    j = 16\n",
    "    while j<=i:\n",
    "        print(\"%d \" % (i*j), end = '')\n",
    "        j = j + 1\n",
    "    print()\n",
    "    i-=1"
   ]
  },
  {
   "cell_type": "markdown",
   "metadata": {},
   "source": [
    "## Pernyataan Loncat\n",
    "\n",
    "## Exercise 6.\n",
    "\n",
    "Buatlah fungsi berikut agar muncul angka hingga berhenti sesuai dengan nilai qq\n",
    "qq = angka favorit kalian\n",
    "pp>qq"
   ]
  },
  {
   "cell_type": "code",
   "execution_count": 9,
   "metadata": {},
   "outputs": [
    {
     "name": "stdout",
     "output_type": "stream",
     "text": [
      "012345678910111213141516"
     ]
    }
   ],
   "source": [
    "for i in range(21):\n",
    "    print(i,end='')\n",
    "    if i == 16:\n",
    "        break"
   ]
  },
  {
   "cell_type": "markdown",
   "metadata": {},
   "source": [
    "***\n",
    "<h1 align=\"center\">WELL DONE</h1>\n",
    " \n",
    "***"
   ]
  }
 ],
 "metadata": {
  "interpreter": {
   "hash": "cd08f94adcf3cbae37fe85286256f4c2a10455ca9094fd053e9f3d3f09647223"
  },
  "kernelspec": {
   "display_name": "Python 3.9.7 64-bit",
   "language": "python",
   "name": "python3"
  },
  "language_info": {
   "codemirror_mode": {
    "name": "ipython",
    "version": 3
   },
   "file_extension": ".py",
   "mimetype": "text/x-python",
   "name": "python",
   "nbconvert_exporter": "python",
   "pygments_lexer": "ipython3",
   "version": "3.9.7"
  },
  "orig_nbformat": 4
 },
 "nbformat": 4,
 "nbformat_minor": 2
}
